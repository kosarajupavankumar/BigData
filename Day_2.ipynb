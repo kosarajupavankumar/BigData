{
  "nbformat": 4,
  "nbformat_minor": 0,
  "metadata": {
    "colab": {
      "provenance": [],
      "toc_visible": true,
      "authorship_tag": "ABX9TyMaJGnonvodOQOKIeoITMZs",
      "include_colab_link": true
    },
    "kernelspec": {
      "name": "python3",
      "display_name": "Python 3"
    },
    "language_info": {
      "name": "python"
    }
  },
  "cells": [
    {
      "cell_type": "markdown",
      "metadata": {
        "id": "view-in-github",
        "colab_type": "text"
      },
      "source": [
        "<a href=\"https://colab.research.google.com/github/kosarajupavankumar/BigData/blob/main/Day_2.ipynb\" target=\"_parent\"><img src=\"https://colab.research.google.com/assets/colab-badge.svg\" alt=\"Open In Colab\"/></a>"
      ]
    },
    {
      "cell_type": "code",
      "execution_count": null,
      "metadata": {
        "colab": {
          "base_uri": "https://localhost:8080/"
        },
        "id": "vqSBm4f1CqhU",
        "outputId": "7ea61e81-371c-4ebb-85a1-1ad31cd7b94a"
      },
      "outputs": [
        {
          "output_type": "stream",
          "name": "stdout",
          "text": [
            "<class 'int'>\n",
            "<class 'float'>\n",
            "<class 'complex'>\n",
            "<class 'str'>\n",
            "<class 'list'>\n",
            "<class 'tuple'>\n",
            "<class 'range'>\n",
            "<class 'dict'>\n",
            "<class 'set'>\n",
            "<class 'frozenset'>\n",
            "<class 'bool'>\n",
            "<class 'bool'>\n",
            "<class 'bytes'>\n",
            "<class 'bytearray'>\n",
            "<class 'memoryview'>\n",
            "<class 'NoneType'>\n"
          ]
        }
      ],
      "source": [
        "# prompt: DataTypes in Python\n",
        "\n",
        "# Numeric Types\n",
        "integer_variable = 10\n",
        "float_variable = 3.14\n",
        "complex_variable = 2 + 3j\n",
        "\n",
        "print(type(integer_variable))  # Output: <class 'int'>\n",
        "print(type(float_variable))  # Output: <class 'float'>\n",
        "print(type(complex_variable))  # Output: <class 'complex'>\n",
        "\n",
        "\n",
        "# Text Type\n",
        "string_variable = \"Hello, World!\"\n",
        "print(type(string_variable))  # Output: <class 'str'>\n",
        "\n",
        "\n",
        "# Sequence Types\n",
        "list_variable = [1, 2, 3, \"a\", \"b\", \"c\"]\n",
        "tuple_variable = (1, 2, 3, \"a\", \"b\", \"c\")\n",
        "range_variable = range(6) # Creates a sequence from 0 to 5.\n",
        "\n",
        "print(type(list_variable))  # Output: <class 'list'>\n",
        "print(type(tuple_variable))  # Output: <class 'tuple'>\n",
        "print(type(range_variable))  # Output: <class 'range'>\n",
        "\n",
        "\n",
        "# Mapping Type\n",
        "dictionary_variable = {\"name\": \"Alice\", \"age\": 30, \"city\": \"New York\"}\n",
        "print(type(dictionary_variable))  # Output: <class 'dict'>\n",
        "\n",
        "\n",
        "# Set Types\n",
        "set_variable = {1, 2, 3}\n",
        "frozenset_variable = frozenset({1, 2, 3}) # Immutable set\n",
        "\n",
        "print(type(set_variable))  # Output: <class 'set'>\n",
        "print(type(frozenset_variable)) # Output: <class 'frozenset'>\n",
        "\n",
        "\n",
        "# Boolean Type\n",
        "boolean_variable_true = True\n",
        "boolean_variable_false = False\n",
        "\n",
        "print(type(boolean_variable_true))  # Output: <class 'bool'>\n",
        "print(type(boolean_variable_false)) # Output: <class 'bool'>\n",
        "\n",
        "# Binary Types (used for working with bytes)\n",
        "\n",
        "bytes_variable = b\"Hello\"  # represents bytes\n",
        "bytearray_variable = bytearray(5) # mutable sequence of bytes\n",
        "memoryview_variable = memoryview(bytes(5))  # provides a view of another object's bytes\n",
        "\n",
        "print(type(bytes_variable))  # Output: <class 'bytes'>\n",
        "print(type(bytearray_variable))  # Output: <class 'bytearray'>\n",
        "print(type(memoryview_variable))  # Output: <class 'memoryview'>\n",
        "\n",
        "\n",
        "# None Type\n",
        "none_variable = None\n",
        "print(type(none_variable))  # Output: <class 'NoneType'>"
      ]
    }
  ]
}