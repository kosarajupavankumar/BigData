{
  "nbformat": 4,
  "nbformat_minor": 0,
  "metadata": {
    "colab": {
      "provenance": [],
      "authorship_tag": "ABX9TyNe55QNkw1DeIXrqF+5H2L/",
      "include_colab_link": true
    },
    "kernelspec": {
      "name": "python3",
      "display_name": "Python 3"
    },
    "language_info": {
      "name": "python"
    }
  },
  "cells": [
    {
      "cell_type": "markdown",
      "metadata": {
        "id": "view-in-github",
        "colab_type": "text"
      },
      "source": [
        "<a href=\"https://colab.research.google.com/github/kosarajupavankumar/BigData/blob/main/Day_9.ipynb\" target=\"_parent\"><img src=\"https://colab.research.google.com/assets/colab-badge.svg\" alt=\"Open In Colab\"/></a>"
      ]
    },
    {
      "cell_type": "code",
      "execution_count": null,
      "metadata": {
        "colab": {
          "base_uri": "https://localhost:8080/"
        },
        "id": "D0ctHuOkJF4m",
        "outputId": "08e15a19-86ca-4660-c01e-88d3b80255d8"
      },
      "outputs": [
        {
          "output_type": "stream",
          "name": "stdout",
          "text": [
            "Error: Division by zero!\n",
            "Error: Cannot concatenate string and integer.\n",
            "An error occurred: invalid literal for int() with base 10: 'abc'\n",
            "Error: File not found.\n",
            "Validation Error: Age cannot be negative.\n",
            "Error: Input must be an integer. Invalid value: hello\n"
          ]
        }
      ],
      "source": [
        "# prompt: Error handling with examples from basic to adavce\n",
        "\n",
        "# Basic error handling with try-except block\n",
        "try:\n",
        "    result = 10 / 0  # Potential ZeroDivisionError\n",
        "except ZeroDivisionError:\n",
        "    print(\"Error: Division by zero!\")\n",
        "\n",
        "\n",
        "# Handling multiple exceptions\n",
        "try:\n",
        "    # Potential TypeError\n",
        "    result = \"10\" + 5\n",
        "except TypeError:\n",
        "    print(\"Error: Cannot concatenate string and integer.\")\n",
        "except ZeroDivisionError:\n",
        "    print(\"Error: Division by zero!\")\n",
        "\n",
        "\n",
        "# Catching all exceptions (use with caution)\n",
        "try:\n",
        "    # Some operation that might raise any kind of exception\n",
        "    result = int(\"abc\")\n",
        "except Exception as e:\n",
        "    print(f\"An error occurred: {e}\")\n",
        "\n",
        "\n",
        "# Using finally to ensure cleanup actions\n",
        "file = None  # Initialize outside the try block\n",
        "try:\n",
        "    file = open(\"myfile.txt\", \"r\")\n",
        "    # some file operation\n",
        "    content = file.read()\n",
        "except FileNotFoundError:\n",
        "    print(\"Error: File not found.\")\n",
        "finally:\n",
        "    if file:\n",
        "        file.close()\n",
        "        print(\"File closed.\")\n",
        "\n",
        "\n",
        "# Raising exceptions manually\n",
        "def validate_age(age):\n",
        "  if age < 0:\n",
        "      raise ValueError(\"Age cannot be negative.\")\n",
        "  print(\"Age is valid.\")\n",
        "\n",
        "try:\n",
        "    validate_age(-5)\n",
        "except ValueError as e:\n",
        "    print(f\"Validation Error: {e}\")\n",
        "\n",
        "\n",
        "# Custom exception class\n",
        "class InvalidInputError(Exception):\n",
        "    def __init__(self, message, value):\n",
        "        self.message = message\n",
        "        self.value = value\n",
        "        super().__init__(self.message)\n",
        "\n",
        "def process_input(data):\n",
        "  if not isinstance(data, int):\n",
        "    raise InvalidInputError(\"Input must be an integer\", data)\n",
        "  # some processing\n",
        "  print(\"Input processed:\", data)\n",
        "\n",
        "\n",
        "try:\n",
        "    process_input(\"hello\")\n",
        "except InvalidInputError as e:\n",
        "    print(f\"Error: {e.message}. Invalid value: {e.value}\")"
      ]
    }
  ]
}