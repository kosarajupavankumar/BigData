{
  "nbformat": 4,
  "nbformat_minor": 0,
  "metadata": {
    "colab": {
      "provenance": [],
      "authorship_tag": "ABX9TyOfRWHYtniRIy8b5IA/XHIp",
      "include_colab_link": true
    },
    "kernelspec": {
      "name": "python3",
      "display_name": "Python 3"
    },
    "language_info": {
      "name": "python"
    }
  },
  "cells": [
    {
      "cell_type": "markdown",
      "metadata": {
        "id": "view-in-github",
        "colab_type": "text"
      },
      "source": [
        "<a href=\"https://colab.research.google.com/github/kosarajupavankumar/BigData/blob/main/Day_7.ipynb\" target=\"_parent\"><img src=\"https://colab.research.google.com/assets/colab-badge.svg\" alt=\"Open In Colab\"/></a>"
      ]
    },
    {
      "cell_type": "code",
      "execution_count": 3,
      "metadata": {
        "colab": {
          "base_uri": "https://localhost:8080/"
        },
        "id": "u-5QTT53s3xK",
        "outputId": "671edc73-afea-4b5c-863f-c526b05c14cb"
      },
      "outputs": [
        {
          "output_type": "stream",
          "name": "stdout",
          "text": [
            "Initial global_var: 10\n",
            "global_var after modification: 20\n",
            "Inside access_global:  20\n",
            "Inside local_scope: 5\n",
            "Inner function: 30\n",
            "60\n"
          ]
        }
      ],
      "source": [
        "# prompt: Scope and Global Varibles explain me with code with proper examples\n",
        "\n",
        "# Global variables are defined outside of any function.\n",
        "# They can be accessed from anywhere in the script, including within functions.\n",
        "\n",
        "global_var = 10\n",
        "\n",
        "def modify_global():\n",
        "  # To modify a global variable inside a function, you must declare it as global.\n",
        "  global global_var  # Without this, a new local variable would be created.\n",
        "  global_var = 20\n",
        "\n",
        "def access_global():\n",
        "  print(\"Inside access_global: \", global_var)\n",
        "\n",
        "print(\"Initial global_var:\", global_var)  # Output: 10\n",
        "modify_global()\n",
        "print(\"global_var after modification:\", global_var) # Output: 20\n",
        "access_global() # Output: 20\n",
        "\n",
        "\n",
        "# Local variables are defined inside a function.\n",
        "# They are only accessible within the function they're defined in.\n",
        "\n",
        "def local_scope():\n",
        "    local_var = 5  # This variable is only visible within this function.\n",
        "    print(\"Inside local_scope:\", local_var) # Output: 5\n",
        "\n",
        "local_scope()\n",
        "\n",
        "# Trying to access local_var outside its scope results in a NameError.\n",
        "# print(local_var) # This will raise a NameError: name 'local_var' is not defined\n",
        "\n",
        "\n",
        "# Example of scope with nested functions:\n",
        "\n",
        "def outer_function():\n",
        "    outer_var = 30\n",
        "\n",
        "    def inner_function():\n",
        "        # inner_function can access variables from its enclosing scope (outer_function).\n",
        "        print(\"Inner function:\", outer_var) # Output: 30\n",
        "\n",
        "    inner_function()\n",
        "\n",
        "outer_function()\n",
        "\n",
        "\n",
        "# Nonlocal variables (for nested functions)\n",
        "\n",
        "def outer_function():\n",
        "  outer_var = 50\n",
        "  def inner_function():\n",
        "    nonlocal outer_var # This allows modification of outer_var in inner_function.\n",
        "    outer_var = 60\n",
        "  inner_function()\n",
        "  print(outer_var)  #Output: 60\n",
        "\n",
        "outer_function()"
      ]
    }
  ]
}