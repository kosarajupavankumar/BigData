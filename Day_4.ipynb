{
  "nbformat": 4,
  "nbformat_minor": 0,
  "metadata": {
    "colab": {
      "provenance": [],
      "authorship_tag": "ABX9TyNsbZ3NUlXeKPbUE8HNtcQW",
      "include_colab_link": true
    },
    "kernelspec": {
      "name": "python3",
      "display_name": "Python 3"
    },
    "language_info": {
      "name": "python"
    }
  },
  "cells": [
    {
      "cell_type": "markdown",
      "metadata": {
        "id": "view-in-github",
        "colab_type": "text"
      },
      "source": [
        "<a href=\"https://colab.research.google.com/github/kosarajupavankumar/BigData/blob/main/Day_4.ipynb\" target=\"_parent\"><img src=\"https://colab.research.google.com/assets/colab-badge.svg\" alt=\"Open In Colab\"/></a>"
      ]
    },
    {
      "cell_type": "code",
      "execution_count": 2,
      "metadata": {
        "colab": {
          "base_uri": "https://localhost:8080/"
        },
        "id": "9eEtJfEeXmSq",
        "outputId": "fcc672f2-156d-4880-e5cd-5dfb620f6649"
      },
      "outputs": [
        {
          "output_type": "stream",
          "name": "stdout",
          "text": [
            "1\n",
            "2\n",
            "3\n",
            "4\n",
            "5\n",
            "H\n",
            "e\n",
            "l\n",
            "l\n",
            "o\n",
            "0\n",
            "1\n",
            "2\n",
            "3\n",
            "4\n",
            "2\n",
            "3\n",
            "4\n",
            "5\n",
            "1\n",
            "3\n",
            "5\n",
            "7\n",
            "9\n",
            "a\n",
            "b\n",
            "c\n",
            "a 1\n",
            "b 2\n",
            "c 3\n",
            "0\n",
            "1\n",
            "3\n",
            "4\n",
            "Fruit at index 0 is apple\n",
            "Fruit at index 1 is banana\n",
            "Fruit at index 2 is cherry\n"
          ]
        }
      ],
      "source": [
        "\n",
        "\n",
        "# Basic for loop iterating through a list\n",
        "my_list = [1, 2, 3, 4, 5]\n",
        "for number in my_list:\n",
        "    print(number)\n",
        "\n",
        "\n",
        "# Iterating through a string\n",
        "my_string = \"Hello\"\n",
        "for letter in my_string:\n",
        "    print(letter)\n",
        "\n",
        "\n",
        "# Using range() to iterate a specific number of times\n",
        "for i in range(5):  # Iterates from 0 to 4\n",
        "    print(i)\n",
        "\n",
        "# Using range() with a start and end value\n",
        "for i in range(2, 6):  # Iterates from 2 to 5\n",
        "  print(i)\n",
        "\n",
        "\n",
        "# Using range() with a start, end, and step value\n",
        "for i in range(1, 10, 2): # Iterates from 1 to 9, incrementing by 2\n",
        "  print(i)\n",
        "\n",
        "\n",
        "# Iterating through a dictionary\n",
        "my_dict = {\"a\": 1, \"b\": 2, \"c\": 3}\n",
        "\n",
        "# Iterate through keys\n",
        "for key in my_dict:\n",
        "    print(key)\n",
        "\n",
        "# Iterate through key-value pairs\n",
        "for key, value in my_dict.items():\n",
        "    print(key, value)\n",
        "\n",
        "\n",
        "# Using break and continue\n",
        "for i in range(10):\n",
        "    if i == 5:\n",
        "        break  # Exit the loop when i is 5\n",
        "    elif i == 2:\n",
        "        continue  # Skip the current iteration when i is 2\n",
        "    print(i)\n",
        "\n",
        "# Iterating through a list with index\n",
        "my_list = [\"apple\", \"banana\", \"cherry\"]\n",
        "for index, fruit in enumerate(my_list):\n",
        "    print(f\"Fruit at index {index} is {fruit}\")"
      ]
    }
  ]
}