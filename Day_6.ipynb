{
  "nbformat": 4,
  "nbformat_minor": 0,
  "metadata": {
    "colab": {
      "provenance": [],
      "authorship_tag": "ABX9TyPjZd353SV+1YkYZ4gfruvY",
      "include_colab_link": true
    },
    "kernelspec": {
      "name": "python3",
      "display_name": "Python 3"
    },
    "language_info": {
      "name": "python"
    }
  },
  "cells": [
    {
      "cell_type": "markdown",
      "metadata": {
        "id": "view-in-github",
        "colab_type": "text"
      },
      "source": [
        "<a href=\"https://colab.research.google.com/github/kosarajupavankumar/BigData/blob/main/Day_6.ipynb\" target=\"_parent\"><img src=\"https://colab.research.google.com/assets/colab-badge.svg\" alt=\"Open In Colab\"/></a>"
      ]
    },
    {
      "cell_type": "code",
      "execution_count": 1,
      "metadata": {
        "colab": {
          "base_uri": "https://localhost:8080/"
        },
        "id": "L5qufHwboKNh",
        "outputId": "35ab3129-9c45-43cf-9ce6-ffc066e2cc6b"
      },
      "outputs": [
        {
          "output_type": "stream",
          "name": "stdout",
          "text": [
            "arg1: 10\n",
            "arg1: 10, arg2: 20\n",
            "arg1: 10, arg2: 20, args: (30, 40)\n",
            "arg1: 10, kwargs: {'name': 'Alice', 'age': 30}\n",
            "arg1: 10, arg2: 20, args: (30, 40), kwargs: {'name': 'Bob', 'city': 'New York'}\n",
            "My name is CHARLIE and I am 30 years old in five years.\n",
            "User status: OK\n"
          ]
        }
      ],
      "source": [
        "# prompt: function with examples from basic to adavance and f string as well and\n",
        "\n",
        "def my_function(arg1, arg2=None, *args, **kwargs):\n",
        "    \"\"\"\n",
        "    A versatile function demonstrating various Python features.\n",
        "\n",
        "    Args:\n",
        "        arg1: The first argument (required).\n",
        "        arg2: The second argument (optional, defaults to None).\n",
        "        *args: Variable number of positional arguments.\n",
        "        **kwargs: Variable number of keyword arguments.\n",
        "\n",
        "    Returns:\n",
        "        A string summarizing the input parameters.\n",
        "    \"\"\"\n",
        "\n",
        "    result = f\"arg1: {arg1}\"\n",
        "\n",
        "    if arg2 is not None:\n",
        "        result += f\", arg2: {arg2}\"\n",
        "\n",
        "    if args:\n",
        "        result += f\", args: {args}\"\n",
        "\n",
        "    if kwargs:\n",
        "        result += f\", kwargs: {kwargs}\"\n",
        "\n",
        "    return result\n",
        "\n",
        "\n",
        "# Basic usage:\n",
        "print(my_function(10))  # Output: arg1: 10\n",
        "\n",
        "# Using optional arguments:\n",
        "print(my_function(10, 20))  # Output: arg1: 10, arg2: 20\n",
        "\n",
        "# Using variable positional arguments:\n",
        "print(my_function(10, 20, 30, 40))  # Output: arg1: 10, arg2: 20, args: (30, 40)\n",
        "\n",
        "# Using variable keyword arguments:\n",
        "print(my_function(10, name=\"Alice\", age=30))  # Output: arg1: 10, kwargs: {'name': 'Alice', 'age': 30}\n",
        "\n",
        "# Combining all argument types:\n",
        "print(my_function(10, 20, 30, 40, name=\"Bob\", city=\"New York\"))\n",
        "# Output: arg1: 10, arg2: 20, args: (30, 40), kwargs: {'name': 'Bob', 'city': 'New York'}\n",
        "\n",
        "# Example with more advanced string formatting inside the f-string\n",
        "name = \"Charlie\"\n",
        "age = 25\n",
        "print(f\"My name is {name.upper()} and I am {age + 5} years old in five years.\")\n",
        "\n",
        "# Example with conditional expressions inside f-string:\n",
        "status = \"active\"\n",
        "print(f\"User status: {'OK' if status == 'active' else 'Not OK'}\")"
      ]
    }
  ]
}